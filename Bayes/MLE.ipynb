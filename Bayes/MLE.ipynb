{
 "cells": [
  {
   "cell_type": "markdown",
   "id": "193a99b6-a49e-4310-9796-187cc921ac5c",
   "metadata": {},
   "source": [
    "Sure! Let's delve into the concepts of Maximum Likelihood Estimation (MLE) and Maximum A Posteriori (MAP) estimation, and see how they relate in the context of a normal distribution with a uniform prior.\n",
    "\n",
    "### Maximum Likelihood Estimation (MLE)\n",
    "\n",
    "The MLE is a method for finding the values of the parameters that maximize the likelihood function, which is a measure of how well the statistical model explains the observed data.\n",
    "\n",
    "In the case of a normal distribution, the likelihood function is given by:\n",
    "\n",
    "\\[ L(\\mu, \\sigma^2 | x) = \\prod_{i=1}^{n} \\frac{1}{\\sqrt{2\\pi\\sigma^2}} e^{-\\frac{(x_i - \\mu)^2}{2\\sigma^2}} \\]\n",
    "\n",
    "where \\(\\mu\\) is the mean, \\(\\sigma^2\\) is the variance, and \\(x\\) is the observed data.\n",
    "\n",
    "To find the MLE of \\(\\mu\\), you take the derivative of the log-likelihood function with respect to \\(\\mu\\) and set it equal to zero, solving for \\(\\mu\\). In this case, the MLE of the mean is the sample mean, and it is given as 5.\n",
    "\n",
    "### Maximum A Posteriori (MAP) Estimation\n",
    "\n",
    "The MAP estimate is similar to the MLE but includes prior information through a prior distribution. The posterior distribution is given by Bayes' theorem:\n",
    "\n",
    "\\[ p(\\mu | x) = \\frac{L(\\mu | x) \\cdot p(\\mu)}{p(x)} \\]\n",
    "\n",
    "where \\(L(\\mu | x)\\) is the likelihood, \\(p(\\mu)\\) is the prior distribution, and \\(p(x)\\) is the marginal likelihood.\n",
    "\n",
    "Given a uniform prior, the prior distribution \\(p(\\mu)\\) is constant. Therefore, the MAP estimate is proportional to the likelihood, and the value that maximizes the likelihood will also maximize the posterior.\n",
    "\n",
    "### Conclusion\n",
    "\n",
    "With a uniform prior, the MAP estimate will coincide with the MLE. Since the MLE for the mean of a normally distributed population is given as 5, the MAP estimate for the mean with a uniform prior will also be 5. Essentially, the uniform prior does not add any additional information to shift or change the estimate derived from the likelihood alone, and thus the MLE and MAP estimates are the same."
   ]
  },
  {
   "cell_type": "code",
   "execution_count": null,
   "id": "64183333-22f2-45a1-9c6d-07a7db1e64ed",
   "metadata": {},
   "outputs": [],
   "source": []
  }
 ],
 "metadata": {
  "kernelspec": {
   "display_name": "Python 3 (ipykernel)",
   "language": "python",
   "name": "python3"
  },
  "language_info": {
   "codemirror_mode": {
    "name": "ipython",
    "version": 3
   },
   "file_extension": ".py",
   "mimetype": "text/x-python",
   "name": "python",
   "nbconvert_exporter": "python",
   "pygments_lexer": "ipython3",
   "version": "3.9.16"
  }
 },
 "nbformat": 4,
 "nbformat_minor": 5
}
